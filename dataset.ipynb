{
  "nbformat": 4,
  "nbformat_minor": 0,
  "metadata": {
    "colab": {
      "name": "dataset.ipynb",
      "provenance": [],
      "collapsed_sections": [],
      "authorship_tag": "ABX9TyM+o+ig0GCIMyEu4bLuYgFh",
      "include_colab_link": true
    },
    "kernelspec": {
      "display_name": "Python 3",
      "name": "python3"
    },
    "language_info": {
      "name": "python"
    }
  },
  "cells": [
    {
      "cell_type": "markdown",
      "metadata": {
        "id": "view-in-github",
        "colab_type": "text"
      },
      "source": [
        "<a href=\"https://colab.research.google.com/github/brlivsky/masking-detection/blob/main/dataset.ipynb\" target=\"_parent\"><img src=\"https://colab.research.google.com/assets/colab-badge.svg\" alt=\"Open In Colab\"/></a>"
      ]
    },
    {
      "cell_type": "markdown",
      "metadata": {
        "id": "dNDTM0vn0SVP"
      },
      "source": [
        "# Preparing the dataset\n",
        "Note\n",
        "----------------------\n",
        "Colab is a temporary environment with an idle timeout of 90 minutes and an absolute timeout of 12 hours. Also, Colab has a disk space limitation of 108 GB, of which only 77 GB is available to the user."
      ]
    },
    {
      "cell_type": "markdown",
      "metadata": {
        "id": "ng5-MePd1DE2"
      },
      "source": [
        "###Mounting Drive"
      ]
    },
    {
      "cell_type": "code",
      "metadata": {
        "id": "14QqAy5_1Fx6"
      },
      "source": [
        "from google.colab import drive\n",
        "drive.mount('/content/drive')"
      ],
      "execution_count": null,
      "outputs": []
    },
    {
      "cell_type": "code",
      "metadata": {
        "id": "XygpJaF2sQEP"
      },
      "source": [
        "cd drive/MyDrive"
      ],
      "execution_count": null,
      "outputs": []
    },
    {
      "cell_type": "markdown",
      "metadata": {
        "id": "Oy0e1_9PwnBR"
      },
      "source": [
        "Snippet to unmount\n",
        "\n",
        "```\n",
        "from google.colab import drive\n",
        "drive.flush_and_unmount()\n",
        "```\n",
        "\n",
        "\n"
      ]
    },
    {
      "cell_type": "markdown",
      "metadata": {
        "id": "fI1Ju1Qx2Enr"
      },
      "source": [
        "###Dataset of Breast mammography images with Masses\n",
        "\n",
        "This datasets consists of mammograms with bening and malignant masses. A combination of MIAS (53), DDSM (2188) and INbreast (106) images are used to create this dataset. Images were preprocessed and data augmentation has been done to obtain a total of 13,128 images each of 227 x 227 pixels [1]. \n",
        "\n",
        "\n",
        "\n",
        "\n",
        "\n"
      ]
    },
    {
      "cell_type": "code",
      "metadata": {
        "id": "tsG_E2131Qvq"
      },
      "source": [
        "!wget \"https://md-datasets-cache-zipfiles-prod.s3.eu-west-1.amazonaws.com/ywsbh3ndr8-2.zip\" -P \"/content/drive/My Drive/\"\n"
      ],
      "execution_count": null,
      "outputs": []
    },
    {
      "cell_type": "code",
      "metadata": {
        "id": "qqB2RIFj1Rfs"
      },
      "source": [
        "!mv \"/content/drive/My Drive/ywsbh3ndr8-2.zip\" \"/gdrive/MyDrive/\""
      ],
      "execution_count": null,
      "outputs": []
    },
    {
      "cell_type": "code",
      "metadata": {
        "id": "wOkYnoxcqNyg"
      },
      "source": [
        "!mkdir dataset"
      ],
      "execution_count": null,
      "outputs": []
    },
    {
      "cell_type": "code",
      "metadata": {
        "id": "geKdl9nr1QET"
      },
      "source": [
        "!unzip -uq \"ywsbh3ndr8-2.zip\" -d \"/gdrive/MyDrive/dataset\"\n"
      ],
      "execution_count": null,
      "outputs": []
    },
    {
      "cell_type": "code",
      "metadata": {
        "id": "4IUWXMBtWYUp"
      },
      "source": [
        "!sudo apt-get install unrar"
      ],
      "execution_count": null,
      "outputs": []
    },
    {
      "cell_type": "code",
      "metadata": {
        "id": "pTU2QO5Crhku"
      },
      "source": [
        "!unrar e -r \"/gdrive/MyDrive/dataset/Dataset of Mammography with Benign Malignant Breast Masses.rar\""
      ],
      "execution_count": null,
      "outputs": []
    },
    {
      "cell_type": "markdown",
      "metadata": {
        "id": "EFuz8zrdmSlD"
      },
      "source": [
        "After unzipping and unraring, I noticed that the files where scattered. Therefore, I've downloaded the dataset in Windows and tried the same, had trouble in unraring, repeated the same in Ubuntu, managed to urar, ziped and uploaded back to the drive as INbreast+MIAS+DDSM Dataset.zip.\n",
        "\n",
        "\n"
      ]
    },
    {
      "cell_type": "code",
      "metadata": {
        "id": "vHhKaeApUA3w"
      },
      "source": [
        "!unzip -uq \"INbreast+MIAS+DDSM Dataset.zip\" -d \"/gdrive/My Drive/dataset\""
      ],
      "execution_count": null,
      "outputs": []
    },
    {
      "cell_type": "markdown",
      "metadata": {
        "id": "v_nfj7HctKMA"
      },
      "source": [
        "Splitting files into training set, test set [(documentation)](https://pypi.org/project/split-folders/)."
      ]
    },
    {
      "cell_type": "code",
      "metadata": {
        "id": "aL1gcjYEieQh"
      },
      "source": [
        "!pip install split-folders\n"
      ],
      "execution_count": null,
      "outputs": []
    },
    {
      "cell_type": "code",
      "metadata": {
        "colab": {
          "background_save": true
        },
        "id": "F-epkNWbidxf"
      },
      "source": [
        "!python3 train_test_split.py\n"
      ],
      "execution_count": null,
      "outputs": []
    },
    {
      "cell_type": "markdown",
      "source": [
        "After splitting the dataset, the folder stucture should be as follows\n",
        "\n",
        "```\n",
        " dataset \n",
        "  |- train\n",
        "  | |- Beningn Masses\n",
        "  | |- Malignant Masses\n",
        "  |- test\n",
        "  | |- Beningn Masses\n",
        "  | |- Malignant Masses\n",
        "  | train_test_split.py\n",
        "```\n",
        "\n",
        "\n",
        "Citations\n",
        "\n",
        "[1] Lin, Ting; Huang, Mei-Ling (2020), “Dataset of Breast mammography images with Masses”, Mendeley Data, V5, doi: 10.17632/ywsbh3ndr8.5"
      ],
      "metadata": {
        "id": "zFRfGENNc-kv"
      }
    }
  ]
}